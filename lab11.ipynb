{
 "cells": [
  {
   "cell_type": "markdown",
   "metadata": {},
   "source": [
    "# Lab 11"
   ]
  },
  {
   "cell_type": "markdown",
   "metadata": {},
   "source": [
    "## Part 1: Building a List Comprehension from the Ground Up"
   ]
  },
  {
   "cell_type": "code",
   "execution_count": 2,
   "metadata": {},
   "outputs": [
    {
     "name": "stdout",
     "output_type": "stream",
     "text": [
      "abcdefghijklmnopqrstuvwxyz\n"
     ]
    }
   ],
   "source": [
    "import string\n",
    "alphabet= string.ascii_lowercase\n",
    "print(alphabet)"
   ]
  },
  {
   "cell_type": "code",
   "execution_count": 3,
   "metadata": {},
   "outputs": [
    {
     "name": "stdout",
     "output_type": "stream",
     "text": [
      "['a', 'b', 'c', 'd', 'e', 'f', 'g', 'h', 'i', 'j']\n"
     ]
    }
   ],
   "source": [
    "list1=[alphabet[i] for i in range (0,10)]\n",
    "print (list1)"
   ]
  },
  {
   "cell_type": "code",
   "execution_count": 4,
   "metadata": {},
   "outputs": [
    {
     "name": "stdout",
     "output_type": "stream",
     "text": [
      "['a', 'b', 'c', 'd', 'e', 'g', 'h', 'i', 'j']\n"
     ]
    }
   ],
   "source": [
    "list2=[alphabet[i] for i in range (0,10) if i!=5]\n",
    "print (list2)"
   ]
  },
  {
   "cell_type": "code",
   "execution_count": 13,
   "metadata": {},
   "outputs": [
    {
     "name": "stdout",
     "output_type": "stream",
     "text": [
      "['a', 'aa', 'aaa', 'b', 'bb', 'bbb', 'c', 'cc', 'ccc', 'd', 'dd', 'ddd', 'e', 'ee', 'eee', 'g', 'gg', 'ggg', 'h', 'hh', 'hhh', 'i', 'ii', 'iii', 'j', 'jj', 'jjj']\n"
     ]
    }
   ],
   "source": [
    "list3=[j*alphabet[i] for i in range (0,10) if i!=5 for j in range (1,4)]\n",
    "print (list3)"
   ]
  },
  {
   "cell_type": "code",
   "execution_count": 6,
   "metadata": {},
   "outputs": [
    {
     "name": "stdout",
     "output_type": "stream",
     "text": [
      "[['a', 'aa', 'aaa'], ['b', 'bb', 'bbb'], ['c', 'cc', 'ccc'], ['d', 'dd', 'ddd'], ['e', 'ee', 'eee'], ['g', 'gg', 'ggg'], ['h', 'hh', 'hhh'], ['i', 'ii', 'iii'], ['j', 'jj', 'jjj']]\n"
     ]
    }
   ],
   "source": [
    "list4=[[alphabet[i],2*alphabet[i], 3*alphabet[i]] for i in range (0,10) if i!=5]\n",
    "print (list4)"
   ]
  },
  {
   "cell_type": "code",
   "execution_count": 7,
   "metadata": {},
   "outputs": [
    {
     "name": "stdout",
     "output_type": "stream",
     "text": [
      "<map object at 0x1104f52b0>\n"
     ]
    }
   ],
   "source": [
    "list4b=map((lambda n:[n, 2*n, 3*n]), (alphabet[i] for i in range(0,10) if i!=5))\n",
    "print(list4b)"
   ]
  },
  {
   "cell_type": "code",
   "execution_count": 29,
   "metadata": {},
   "outputs": [
    {
     "name": "stdout",
     "output_type": "stream",
     "text": [
      "['A', 'D', 'G', 'J']\n",
      "[['A', 'A', 'A'], ['B', 'B', 'B'], ['C', 'C', 'C'], ['D', 'D', 'D'], ['E', 'E', 'E'], ['F', 'F', 'F'], ['G', 'G', 'G'], ['H', 'H', 'H'], ['I', 'I', 'I'], ['J', 'J', 'J']]\n"
     ]
    }
   ],
   "source": [
    "list5a=[alphabet[i].upper() for i in range (0,10) if i%3==0]\n",
    "#list5=[[ for i in range(0,len(list4))]\n",
    "#list5=[list4[i][j]=alphabet[i].upper() for i in list4 for j in i if i.index(j) == i%%3 ]\n",
    "\n",
    "\n",
    "list5_0=[[alphabet[j].upper() for i in range(0,3)] for j in range(0,10) ]\n",
    "\n",
    "print (list5a)\n",
    "print (list5_0)"
   ]
  },
  {
   "cell_type": "markdown",
   "metadata": {},
   "source": [
    "## Part 2: Function-fu"
   ]
  },
  {
   "cell_type": "code",
   "execution_count": 5,
   "metadata": {},
   "outputs": [
    {
     "name": "stdout",
     "output_type": "stream",
     "text": [
      "[1, 4, 9, 16, 25, 36, 49, 64, 81, 100]\n",
      "[1, 4, 9, 16, 25, 36, 49, 64, 81, 100]\n"
     ]
    }
   ],
   "source": [
    "#Squares\n",
    "import numpy as np\n",
    "print [i**2 for i in range(1,11)]\n",
    "print map(lambda n:n**2, range(1,11))"
   ]
  },
  {
   "cell_type": "code",
   "execution_count": 22,
   "metadata": {},
   "outputs": [
    {
     "name": "stdout",
     "output_type": "stream",
     "text": [
      "120\n"
     ]
    }
   ],
   "source": [
    "#Products\n",
    "print reduce(lambda x,y: x*y, range(1,6))"
   ]
  },
  {
   "cell_type": "markdown",
   "metadata": {},
   "source": [
    "Filenames: Say that you have a string with a list of file names “test1.py test2.py test3.py\n",
    "...” and you want to output a list of just the filenames without the .py extension. Do this with a list\n",
    "comprehension."
   ]
  },
  {
   "cell_type": "code",
   "execution_count": 26,
   "metadata": {},
   "outputs": [
    {
     "data": {
      "text/plain": [
       "['t',\n",
       " 'e',\n",
       " 's',\n",
       " 't',\n",
       " '1',\n",
       " 't',\n",
       " 'e',\n",
       " 's',\n",
       " 't',\n",
       " '2',\n",
       " 't',\n",
       " 'e',\n",
       " 's',\n",
       " 't',\n",
       " '3',\n",
       " 't',\n",
       " 'e',\n",
       " 's',\n",
       " 't',\n",
       " '4']"
      ]
     },
     "execution_count": 26,
     "metadata": {},
     "output_type": "execute_result"
    }
   ],
   "source": [
    "lst=\"test1.py test2.py test3.py test4.py\"\n",
    "lst=lst.split()\n",
    "lst\n",
    "lst_r=[lst[i][j] for i in range(0, len(lst)) for j in range(0,5)]\n",
    "lst_r"
   ]
  },
  {
   "cell_type": "code",
   "execution_count": null,
   "metadata": {
    "collapsed": true
   },
   "outputs": [],
   "source": []
  }
 ],
 "metadata": {
  "kernelspec": {
   "display_name": "Python 3",
   "language": "python",
   "name": "python3"
  },
  "language_info": {
   "codemirror_mode": {
    "name": "ipython",
    "version": 3
   },
   "file_extension": ".py",
   "mimetype": "text/x-python",
   "name": "python",
   "nbconvert_exporter": "python",
   "pygments_lexer": "ipython3",
   "version": "3.6.1"
  }
 },
 "nbformat": 4,
 "nbformat_minor": 1
}
